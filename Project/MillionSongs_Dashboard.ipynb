{
 "cells": [
  {
   "cell_type": "code",
   "execution_count": 1,
   "metadata": {},
   "outputs": [],
   "source": [
    "import pandas as pd\n",
    "import matplotlib.pyplot as plt"
   ]
  },
  {
   "cell_type": "code",
   "execution_count": 2,
   "metadata": {},
   "outputs": [
    {
     "data": {
      "text/html": [
       "<div>\n",
       "<style scoped>\n",
       "    .dataframe tbody tr th:only-of-type {\n",
       "        vertical-align: middle;\n",
       "    }\n",
       "\n",
       "    .dataframe tbody tr th {\n",
       "        vertical-align: top;\n",
       "    }\n",
       "\n",
       "    .dataframe thead th {\n",
       "        text-align: right;\n",
       "    }\n",
       "</style>\n",
       "<table border=\"1\" class=\"dataframe\">\n",
       "  <thead>\n",
       "    <tr style=\"text-align: right;\">\n",
       "      <th></th>\n",
       "      <th>track_id</th>\n",
       "      <th>title</th>\n",
       "      <th>artist_name</th>\n",
       "      <th>artist_location</th>\n",
       "      <th>duration</th>\n",
       "      <th>year</th>\n",
       "      <th>loudness</th>\n",
       "      <th>artist_hotttnesss</th>\n",
       "      <th>song_hotttnesss</th>\n",
       "      <th>artist_hotttnesss_band</th>\n",
       "    </tr>\n",
       "  </thead>\n",
       "  <tbody>\n",
       "    <tr>\n",
       "      <th>0</th>\n",
       "      <td>b'TRARRZU128F4253CA2'</td>\n",
       "      <td>Je Sais Que La Terre Est Plate</td>\n",
       "      <td>Raphaël</td>\n",
       "      <td>France</td>\n",
       "      <td>148.74077</td>\n",
       "      <td>2008</td>\n",
       "      <td>-9.636</td>\n",
       "      <td>0.386152</td>\n",
       "      <td>0.547953</td>\n",
       "      <td>Medium</td>\n",
       "    </tr>\n",
       "    <tr>\n",
       "      <th>1</th>\n",
       "      <td>b'TRARRJL128F92DED0E'</td>\n",
       "      <td>On Efface</td>\n",
       "      <td>Julie Zenatti</td>\n",
       "      <td>NaN</td>\n",
       "      <td>252.99546</td>\n",
       "      <td>2004</td>\n",
       "      <td>-11.061</td>\n",
       "      <td>0.434860</td>\n",
       "      <td>0.475638</td>\n",
       "      <td>Medium</td>\n",
       "    </tr>\n",
       "    <tr>\n",
       "      <th>2</th>\n",
       "      <td>b'TRARRUZ128F9307C57'</td>\n",
       "      <td>Howells Delight</td>\n",
       "      <td>The Baltimore Consort</td>\n",
       "      <td>NaN</td>\n",
       "      <td>78.02730</td>\n",
       "      <td>0</td>\n",
       "      <td>-24.140</td>\n",
       "      <td>0.000000</td>\n",
       "      <td>NaN</td>\n",
       "      <td>Low</td>\n",
       "    </tr>\n",
       "    <tr>\n",
       "      <th>3</th>\n",
       "      <td>b'TRARRWA128F42A0195'</td>\n",
       "      <td>Martha Served</td>\n",
       "      <td>I Hate Sally</td>\n",
       "      <td>NaN</td>\n",
       "      <td>163.63057</td>\n",
       "      <td>2007</td>\n",
       "      <td>-5.795</td>\n",
       "      <td>0.334520</td>\n",
       "      <td>NaN</td>\n",
       "      <td>Medium</td>\n",
       "    </tr>\n",
       "    <tr>\n",
       "      <th>4</th>\n",
       "      <td>b'TRARRPG12903CD1DE9'</td>\n",
       "      <td>Zip-A-Dee-Doo-Dah (Song of the South)</td>\n",
       "      <td>Orlando Pops Orchestra</td>\n",
       "      <td>NaN</td>\n",
       "      <td>199.99302</td>\n",
       "      <td>0</td>\n",
       "      <td>-16.477</td>\n",
       "      <td>0.311616</td>\n",
       "      <td>NaN</td>\n",
       "      <td>Medium</td>\n",
       "    </tr>\n",
       "  </tbody>\n",
       "</table>\n",
       "</div>"
      ],
      "text/plain": [
       "                track_id                                  title  \\\n",
       "0  b'TRARRZU128F4253CA2'         Je Sais Que La Terre Est Plate   \n",
       "1  b'TRARRJL128F92DED0E'                              On Efface   \n",
       "2  b'TRARRUZ128F9307C57'                        Howells Delight   \n",
       "3  b'TRARRWA128F42A0195'                          Martha Served   \n",
       "4  b'TRARRPG12903CD1DE9'  Zip-A-Dee-Doo-Dah (Song of the South)   \n",
       "\n",
       "              artist_name artist_location   duration  year  loudness  \\\n",
       "0                 Raphaël          France  148.74077  2008    -9.636   \n",
       "1           Julie Zenatti             NaN  252.99546  2004   -11.061   \n",
       "2   The Baltimore Consort             NaN   78.02730     0   -24.140   \n",
       "3            I Hate Sally             NaN  163.63057  2007    -5.795   \n",
       "4  Orlando Pops Orchestra             NaN  199.99302     0   -16.477   \n",
       "\n",
       "   artist_hotttnesss  song_hotttnesss artist_hotttnesss_band  \n",
       "0           0.386152         0.547953                 Medium  \n",
       "1           0.434860         0.475638                 Medium  \n",
       "2           0.000000              NaN                    Low  \n",
       "3           0.334520              NaN                 Medium  \n",
       "4           0.311616              NaN                 Medium  "
      ]
     },
     "execution_count": 2,
     "metadata": {},
     "output_type": "execute_result"
    }
   ],
   "source": [
    "df = pd.read_csv('million_song_subset_features.csv')\n",
    "df.head()"
   ]
  },
  {
   "cell_type": "code",
   "execution_count": 3,
   "metadata": {},
   "outputs": [
    {
     "data": {
      "text/html": [
       "<div>\n",
       "<style scoped>\n",
       "    .dataframe tbody tr th:only-of-type {\n",
       "        vertical-align: middle;\n",
       "    }\n",
       "\n",
       "    .dataframe tbody tr th {\n",
       "        vertical-align: top;\n",
       "    }\n",
       "\n",
       "    .dataframe thead th {\n",
       "        text-align: right;\n",
       "    }\n",
       "</style>\n",
       "<table border=\"1\" class=\"dataframe\">\n",
       "  <thead>\n",
       "    <tr style=\"text-align: right;\">\n",
       "      <th></th>\n",
       "      <th>duration</th>\n",
       "      <th>year</th>\n",
       "      <th>loudness</th>\n",
       "      <th>artist_hotttnesss</th>\n",
       "      <th>song_hotttnesss</th>\n",
       "    </tr>\n",
       "  </thead>\n",
       "  <tbody>\n",
       "    <tr>\n",
       "      <th>count</th>\n",
       "      <td>10000.000000</td>\n",
       "      <td>10000.000000</td>\n",
       "      <td>10000.000000</td>\n",
       "      <td>10000.000000</td>\n",
       "      <td>5648.000000</td>\n",
       "    </tr>\n",
       "    <tr>\n",
       "      <th>mean</th>\n",
       "      <td>238.507518</td>\n",
       "      <td>934.704600</td>\n",
       "      <td>-10.485669</td>\n",
       "      <td>0.385552</td>\n",
       "      <td>0.342822</td>\n",
       "    </tr>\n",
       "    <tr>\n",
       "      <th>std</th>\n",
       "      <td>114.137514</td>\n",
       "      <td>996.650657</td>\n",
       "      <td>5.399788</td>\n",
       "      <td>0.143647</td>\n",
       "      <td>0.247220</td>\n",
       "    </tr>\n",
       "    <tr>\n",
       "      <th>min</th>\n",
       "      <td>1.044440</td>\n",
       "      <td>0.000000</td>\n",
       "      <td>-51.643000</td>\n",
       "      <td>0.000000</td>\n",
       "      <td>0.000000</td>\n",
       "    </tr>\n",
       "    <tr>\n",
       "      <th>25%</th>\n",
       "      <td>176.032200</td>\n",
       "      <td>0.000000</td>\n",
       "      <td>-13.163250</td>\n",
       "      <td>0.325266</td>\n",
       "      <td>0.000000</td>\n",
       "    </tr>\n",
       "    <tr>\n",
       "      <th>50%</th>\n",
       "      <td>223.059140</td>\n",
       "      <td>0.000000</td>\n",
       "      <td>-9.380000</td>\n",
       "      <td>0.380742</td>\n",
       "      <td>0.360371</td>\n",
       "    </tr>\n",
       "    <tr>\n",
       "      <th>75%</th>\n",
       "      <td>276.375060</td>\n",
       "      <td>2000.000000</td>\n",
       "      <td>-6.532500</td>\n",
       "      <td>0.453858</td>\n",
       "      <td>0.537504</td>\n",
       "    </tr>\n",
       "    <tr>\n",
       "      <th>max</th>\n",
       "      <td>1819.767710</td>\n",
       "      <td>2010.000000</td>\n",
       "      <td>0.566000</td>\n",
       "      <td>1.082503</td>\n",
       "      <td>1.000000</td>\n",
       "    </tr>\n",
       "  </tbody>\n",
       "</table>\n",
       "</div>"
      ],
      "text/plain": [
       "           duration          year      loudness  artist_hotttnesss  \\\n",
       "count  10000.000000  10000.000000  10000.000000       10000.000000   \n",
       "mean     238.507518    934.704600    -10.485669           0.385552   \n",
       "std      114.137514    996.650657      5.399788           0.143647   \n",
       "min        1.044440      0.000000    -51.643000           0.000000   \n",
       "25%      176.032200      0.000000    -13.163250           0.325266   \n",
       "50%      223.059140      0.000000     -9.380000           0.380742   \n",
       "75%      276.375060   2000.000000     -6.532500           0.453858   \n",
       "max     1819.767710   2010.000000      0.566000           1.082503   \n",
       "\n",
       "       song_hotttnesss  \n",
       "count      5648.000000  \n",
       "mean          0.342822  \n",
       "std           0.247220  \n",
       "min           0.000000  \n",
       "25%           0.000000  \n",
       "50%           0.360371  \n",
       "75%           0.537504  \n",
       "max           1.000000  "
      ]
     },
     "execution_count": 3,
     "metadata": {},
     "output_type": "execute_result"
    }
   ],
   "source": [
    "df.describe()"
   ]
  },
  {
   "cell_type": "code",
   "execution_count": 17,
   "metadata": {},
   "outputs": [
    {
     "data": {
      "text/plain": [
       "Medium    7797\n",
       "Low       1691\n",
       "High       497\n",
       "Name: artist_hotttnesss_band, dtype: int64"
      ]
     },
     "execution_count": 17,
     "metadata": {},
     "output_type": "execute_result"
    }
   ],
   "source": [
    "band_counts = df['artist_hotttnesss_band'].value_counts()\n",
    "band_counts"
   ]
  },
  {
   "cell_type": "code",
   "execution_count": 15,
   "metadata": {},
   "outputs": [
    {
     "data": {
      "image/png": "[encoded data removed]",
      "text/plain": [
       "<Figure size 432x432 with 1 Axes>"
      ]
     },
     "metadata": {},
     "output_type": "display_data"
    }
   ],
   "source": [
    "\n",
    "plt.figure(figsize=(6,6))\n",
    "\n",
    "# Creating the pie chart\n",
    "plt.pie(band_counts, labels=band_counts.index, autopct='%1.1f%%', startangle=140, colors=['cornflowerblue', 'lightgreen', 'mistyrose'])\n",
    "\n",
    "# Adding a title\n",
    "plt.title('Artist hotttnesss Distribution',y=1.05)\n",
    "\n",
    "# Ensuring the circle's proportion\n",
    "plt.axis('equal')\n",
    "\n",
    "# Displaying the chart\n",
    "plt.show()"
   ]
  },
  {
   "cell_type": "code",
   "execution_count": 18,
   "metadata": {},
   "outputs": [
    {
     "data": {
      "text/plain": [
       "0       5320\n",
       "2006     320\n",
       "2005     304\n",
       "2007     285\n",
       "2004     270\n",
       "        ... \n",
       "1955       1\n",
       "1954       1\n",
       "1950       1\n",
       "1929       1\n",
       "1934       1\n",
       "Name: year, Length: 69, dtype: int64"
      ]
     },
     "execution_count": 18,
     "metadata": {},
     "output_type": "execute_result"
    }
   ],
   "source": [
    "df['year'].value_counts()"
   ]
  },
  {
   "cell_type": "code",
   "execution_count": null,
   "metadata": {},
   "outputs": [],
   "source": []
  }
 ],
 "metadata": {
  "kernelspec": {
   "display_name": "Python 3",
   "language": "python",
   "name": "python3"
  },
  "language_info": {
   "codemirror_mode": {
    "name": "ipython",
    "version": 3
   },
   "file_extension": ".py",
   "mimetype": "text/x-python",
   "name": "python",
   "nbconvert_exporter": "python",
   "pygments_lexer": "ipython3",
   "version": "3.8.3"
  }
 },
 "nbformat": 4,
 "nbformat_minor": 4
}
