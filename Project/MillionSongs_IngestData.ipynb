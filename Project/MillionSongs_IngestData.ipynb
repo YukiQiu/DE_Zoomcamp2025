{
 "cells": [
  {
   "cell_type": "markdown",
   "metadata": {},
   "source": [
    "# 1.Read Files "
   ]
  },
  {
   "cell_type": "code",
   "execution_count": 1,
   "metadata": {},
   "outputs": [],
   "source": [
    "import sys\n",
    "sys.path.append('hdf5_getters')\n",
    "import hdf5_getters"
   ]
  },
  {
   "cell_type": "code",
   "execution_count": 2,
   "metadata": {},
   "outputs": [],
   "source": [
    "import hdf5_getters\n",
    "h5 = hdf5_getters.open_h5_file_read('MillionSongSubset/A/A/A/TRAAAAW128F429D538.h5')\n",
    "duration = hdf5_getters.get_duration(h5)\n",
    "h5.close()"
   ]
  },
  {
   "cell_type": "code",
   "execution_count": 3,
   "metadata": {},
   "outputs": [
    {
     "name": "stdout",
     "output_type": "stream",
     "text": [
      "Available features:\n",
      "['get_analysis_sample_rate', 'get_artist_7digitalid', 'get_artist_familiarity', 'get_artist_hotttnesss', 'get_artist_id', 'get_artist_latitude', 'get_artist_location', 'get_artist_longitude', 'get_artist_mbid', 'get_artist_mbtags', 'get_artist_mbtags_count', 'get_artist_name', 'get_artist_playmeid', 'get_artist_terms', 'get_artist_terms_freq', 'get_artist_terms_weight', 'get_audio_md5', 'get_bars_confidence', 'get_bars_start', 'get_beats_confidence', 'get_beats_start', 'get_danceability', 'get_duration', 'get_end_of_fade_in', 'get_energy', 'get_key', 'get_key_confidence', 'get_loudness', 'get_mode', 'get_mode_confidence', 'get_num_songs', 'get_release', 'get_release_7digitalid', 'get_sections_confidence', 'get_sections_start', 'get_segments_confidence', 'get_segments_loudness_max', 'get_segments_loudness_max_time', 'get_segments_loudness_start', 'get_segments_pitches', 'get_segments_start', 'get_segments_timbre', 'get_similar_artists', 'get_song_hotttnesss', 'get_song_id', 'get_start_of_fade_out', 'get_tatums_confidence', 'get_tatums_start', 'get_tempo', 'get_time_signature', 'get_time_signature_confidence', 'get_title', 'get_track_7digitalid', 'get_track_id', 'get_year']\n"
     ]
    }
   ],
   "source": [
    "getters = [f for f in dir(hdf5_getters) if f.startswith(\"get_\")]\n",
    "print(\"Available features:\")\n",
    "print(getters)"
   ]
  },
  {
   "cell_type": "code",
   "execution_count": 4,
   "metadata": {},
   "outputs": [],
   "source": [
    "import pandas as pd"
   ]
  },
  {
   "cell_type": "code",
   "execution_count": 5,
   "metadata": {},
   "outputs": [],
   "source": [
    "# h5 = hdf5_getters.open_h5_file_read('MillionSongSubset/A/R/R/TRARRZU128F4253CA2.h5')\n",
    "\n",
    "# # Extract relevant features\n",
    "# data = {\n",
    "#     \"track_id\": hdf5_getters.get_track_id(h5),\n",
    "#     \"title\": hdf5_getters.get_title(h5).decode('utf-8'),\n",
    "#     \"artist_name\": hdf5_getters.get_artist_name(h5).decode('utf-8'),\n",
    "#     \"duration\": hdf5_getters.get_duration(h5),\n",
    "#     \"tempo\": hdf5_getters.get_tempo(h5),\n",
    "#     \"year\": hdf5_getters.get_year(h5),\n",
    "#     \"danceability\": hdf5_getters.get_danceability(h5),\n",
    "#     \"loudness\": hdf5_getters.get_loudness(h5),\n",
    "#     \"artist_hotttnesss\":hdf5_getters.get_artist_hotttnesss(h5),\n",
    "#     \"song_hotttnesss\":hdf5_getters.get_song_hotttnesss(h5)\n",
    "# }\n",
    "\n",
    "# h5.close()\n",
    "\n",
    "# # Convert to DataFrame\n",
    "# df = pd.DataFrame([data])\n",
    "# print(df.head())"
   ]
  },
  {
   "cell_type": "code",
   "execution_count": 6,
   "metadata": {},
   "outputs": [
    {
     "name": "stdout",
     "output_type": "stream",
     "text": [
      "✅ Done! Songs processed: 10000\n",
      "                track_id                                  title  \\\n",
      "0  b'TRARRZU128F4253CA2'         Je Sais Que La Terre Est Plate   \n",
      "1  b'TRARRJL128F92DED0E'                              On Efface   \n",
      "2  b'TRARRUZ128F9307C57'                        Howells Delight   \n",
      "3  b'TRARRWA128F42A0195'                          Martha Served   \n",
      "4  b'TRARRPG12903CD1DE9'  Zip-A-Dee-Doo-Dah (Song of the South)   \n",
      "\n",
      "              artist_name artist_location   duration  year  loudness  \\\n",
      "0                 Raphaël          France  148.74077  2008    -9.636   \n",
      "1           Julie Zenatti                  252.99546  2004   -11.061   \n",
      "2   The Baltimore Consort                   78.02730     0   -24.140   \n",
      "3            I Hate Sally                  163.63057  2007    -5.795   \n",
      "4  Orlando Pops Orchestra                  199.99302     0   -16.477   \n",
      "\n",
      "   artist_hotttnesss  song_hotttnesss artist_hotttnesss_band  \n",
      "0           0.386152         0.547953                 Medium  \n",
      "1           0.434860         0.475638                 Medium  \n",
      "2           0.000000              NaN                    Low  \n",
      "3           0.334520              NaN                 Medium  \n",
      "4           0.311616              NaN                 Medium  \n"
     ]
    }
   ],
   "source": [
    "import os\n",
    "import hdf5_getters\n",
    "import pandas as pd\n",
    "\n",
    "# Root directory of MillionSongSubset\n",
    "base_dir = 'MillionSongSubset'\n",
    "\n",
    "# List to collect all song data\n",
    "all_songs = []\n",
    "\n",
    "# Loop through all subfolders and files\n",
    "for root, dirs, files in os.walk(base_dir):\n",
    "    for file in files:\n",
    "        if file.endswith(\".h5\"):\n",
    "            file_path = os.path.join(root, file)\n",
    "            try:\n",
    "                h5 = hdf5_getters.open_h5_file_read(file_path)\n",
    "\n",
    "               # Extract relevant features\n",
    "                song_data = {\n",
    "                       \"track_id\": hdf5_getters.get_track_id(h5),\n",
    "                       \"title\": hdf5_getters.get_title(h5).decode('utf-8'),\n",
    "                       \"artist_name\": hdf5_getters.get_artist_name(h5).decode('utf-8'),\n",
    "                       \"artist_location\": hdf5_getters.get_artist_location(h5).decode('utf-8'),\n",
    "                       \"duration\": hdf5_getters.get_duration(h5),\n",
    "                       \"year\": hdf5_getters.get_year(h5),\n",
    "                       \"loudness\": hdf5_getters.get_loudness(h5),\n",
    "                       \"artist_hotttnesss\":hdf5_getters.get_artist_hotttnesss(h5),\n",
    "                       \"song_hotttnesss\":hdf5_getters.get_song_hotttnesss(h5)\n",
    "                       }\n",
    "\n",
    "                all_songs.append(song_data)\n",
    "                h5.close()\n",
    "            except Exception as e:\n",
    "                print(f\"Failed to process {file_path}: {e}\")\n",
    "\n",
    "# Convert to DataFrame\n",
    "df = pd.DataFrame(all_songs)\n",
    "\n",
    "bins = [0, 0.3, 0.6, 1.0]\n",
    "labels = ['Low', 'Medium', 'High']\n",
    "df['artist_hotttnesss_band'] = pd.cut(df['artist_hotttnesss'], bins=bins, labels=labels, include_lowest=True)\n",
    "\n",
    "# Save to CSV\n",
    "df.to_csv(\"million_song_subset_features.csv\", index=False)\n",
    "\n",
    "print(\"✅ Done! Songs processed:\", len(df))\n",
    "print(df.head())"
   ]
  },
  {
   "cell_type": "code",
   "execution_count": null,
   "metadata": {},
   "outputs": [],
   "source": []
  },
  {
   "cell_type": "code",
   "execution_count": 7,
   "metadata": {},
   "outputs": [
    {
     "data": {
      "text/html": [
       "<div>\n",
       "<style scoped>\n",
       "    .dataframe tbody tr th:only-of-type {\n",
       "        vertical-align: middle;\n",
       "    }\n",
       "\n",
       "    .dataframe tbody tr th {\n",
       "        vertical-align: top;\n",
       "    }\n",
       "\n",
       "    .dataframe thead th {\n",
       "        text-align: right;\n",
       "    }\n",
       "</style>\n",
       "<table border=\"1\" class=\"dataframe\">\n",
       "  <thead>\n",
       "    <tr style=\"text-align: right;\">\n",
       "      <th></th>\n",
       "      <th>duration</th>\n",
       "      <th>year</th>\n",
       "      <th>loudness</th>\n",
       "      <th>artist_hotttnesss</th>\n",
       "      <th>song_hotttnesss</th>\n",
       "    </tr>\n",
       "  </thead>\n",
       "  <tbody>\n",
       "    <tr>\n",
       "      <th>count</th>\n",
       "      <td>10000.000000</td>\n",
       "      <td>10000.000000</td>\n",
       "      <td>10000.000000</td>\n",
       "      <td>10000.000000</td>\n",
       "      <td>5648.000000</td>\n",
       "    </tr>\n",
       "    <tr>\n",
       "      <th>mean</th>\n",
       "      <td>238.507518</td>\n",
       "      <td>934.704600</td>\n",
       "      <td>-10.485669</td>\n",
       "      <td>0.385552</td>\n",
       "      <td>0.342822</td>\n",
       "    </tr>\n",
       "    <tr>\n",
       "      <th>std</th>\n",
       "      <td>114.137514</td>\n",
       "      <td>996.650657</td>\n",
       "      <td>5.399788</td>\n",
       "      <td>0.143647</td>\n",
       "      <td>0.247220</td>\n",
       "    </tr>\n",
       "    <tr>\n",
       "      <th>min</th>\n",
       "      <td>1.044440</td>\n",
       "      <td>0.000000</td>\n",
       "      <td>-51.643000</td>\n",
       "      <td>0.000000</td>\n",
       "      <td>0.000000</td>\n",
       "    </tr>\n",
       "    <tr>\n",
       "      <th>25%</th>\n",
       "      <td>176.032200</td>\n",
       "      <td>0.000000</td>\n",
       "      <td>-13.163250</td>\n",
       "      <td>0.325266</td>\n",
       "      <td>0.000000</td>\n",
       "    </tr>\n",
       "    <tr>\n",
       "      <th>50%</th>\n",
       "      <td>223.059140</td>\n",
       "      <td>0.000000</td>\n",
       "      <td>-9.380000</td>\n",
       "      <td>0.380742</td>\n",
       "      <td>0.360371</td>\n",
       "    </tr>\n",
       "    <tr>\n",
       "      <th>75%</th>\n",
       "      <td>276.375060</td>\n",
       "      <td>2000.000000</td>\n",
       "      <td>-6.532500</td>\n",
       "      <td>0.453858</td>\n",
       "      <td>0.537504</td>\n",
       "    </tr>\n",
       "    <tr>\n",
       "      <th>max</th>\n",
       "      <td>1819.767710</td>\n",
       "      <td>2010.000000</td>\n",
       "      <td>0.566000</td>\n",
       "      <td>1.082503</td>\n",
       "      <td>1.000000</td>\n",
       "    </tr>\n",
       "  </tbody>\n",
       "</table>\n",
       "</div>"
      ],
      "text/plain": [
       "           duration          year      loudness  artist_hotttnesss  \\\n",
       "count  10000.000000  10000.000000  10000.000000       10000.000000   \n",
       "mean     238.507518    934.704600    -10.485669           0.385552   \n",
       "std      114.137514    996.650657      5.399788           0.143647   \n",
       "min        1.044440      0.000000    -51.643000           0.000000   \n",
       "25%      176.032200      0.000000    -13.163250           0.325266   \n",
       "50%      223.059140      0.000000     -9.380000           0.380742   \n",
       "75%      276.375060   2000.000000     -6.532500           0.453858   \n",
       "max     1819.767710   2010.000000      0.566000           1.082503   \n",
       "\n",
       "       song_hotttnesss  \n",
       "count      5648.000000  \n",
       "mean          0.342822  \n",
       "std           0.247220  \n",
       "min           0.000000  \n",
       "25%           0.000000  \n",
       "50%           0.360371  \n",
       "75%           0.537504  \n",
       "max           1.000000  "
      ]
     },
     "execution_count": 7,
     "metadata": {},
     "output_type": "execute_result"
    }
   ],
   "source": [
    "df.describe()"
   ]
  },
  {
   "cell_type": "code",
   "execution_count": 8,
   "metadata": {},
   "outputs": [
    {
     "data": {
      "text/html": [
       "<div>\n",
       "<style scoped>\n",
       "    .dataframe tbody tr th:only-of-type {\n",
       "        vertical-align: middle;\n",
       "    }\n",
       "\n",
       "    .dataframe tbody tr th {\n",
       "        vertical-align: top;\n",
       "    }\n",
       "\n",
       "    .dataframe thead th {\n",
       "        text-align: right;\n",
       "    }\n",
       "</style>\n",
       "<table border=\"1\" class=\"dataframe\">\n",
       "  <thead>\n",
       "    <tr style=\"text-align: right;\">\n",
       "      <th></th>\n",
       "      <th>track_id</th>\n",
       "      <th>title</th>\n",
       "      <th>artist_name</th>\n",
       "      <th>artist_location</th>\n",
       "      <th>duration</th>\n",
       "      <th>year</th>\n",
       "      <th>loudness</th>\n",
       "      <th>artist_hotttnesss</th>\n",
       "      <th>song_hotttnesss</th>\n",
       "      <th>artist_hotttnesss_band</th>\n",
       "    </tr>\n",
       "  </thead>\n",
       "  <tbody>\n",
       "    <tr>\n",
       "      <th>0</th>\n",
       "      <td>b'TRARRZU128F4253CA2'</td>\n",
       "      <td>Je Sais Que La Terre Est Plate</td>\n",
       "      <td>Raphaël</td>\n",
       "      <td>France</td>\n",
       "      <td>148.74077</td>\n",
       "      <td>2008</td>\n",
       "      <td>-9.636</td>\n",
       "      <td>0.386152</td>\n",
       "      <td>0.547953</td>\n",
       "      <td>Medium</td>\n",
       "    </tr>\n",
       "    <tr>\n",
       "      <th>1</th>\n",
       "      <td>b'TRARRJL128F92DED0E'</td>\n",
       "      <td>On Efface</td>\n",
       "      <td>Julie Zenatti</td>\n",
       "      <td></td>\n",
       "      <td>252.99546</td>\n",
       "      <td>2004</td>\n",
       "      <td>-11.061</td>\n",
       "      <td>0.434860</td>\n",
       "      <td>0.475638</td>\n",
       "      <td>Medium</td>\n",
       "    </tr>\n",
       "    <tr>\n",
       "      <th>2</th>\n",
       "      <td>b'TRARRUZ128F9307C57'</td>\n",
       "      <td>Howells Delight</td>\n",
       "      <td>The Baltimore Consort</td>\n",
       "      <td></td>\n",
       "      <td>78.02730</td>\n",
       "      <td>0</td>\n",
       "      <td>-24.140</td>\n",
       "      <td>0.000000</td>\n",
       "      <td>NaN</td>\n",
       "      <td>Low</td>\n",
       "    </tr>\n",
       "    <tr>\n",
       "      <th>3</th>\n",
       "      <td>b'TRARRWA128F42A0195'</td>\n",
       "      <td>Martha Served</td>\n",
       "      <td>I Hate Sally</td>\n",
       "      <td></td>\n",
       "      <td>163.63057</td>\n",
       "      <td>2007</td>\n",
       "      <td>-5.795</td>\n",
       "      <td>0.334520</td>\n",
       "      <td>NaN</td>\n",
       "      <td>Medium</td>\n",
       "    </tr>\n",
       "    <tr>\n",
       "      <th>4</th>\n",
       "      <td>b'TRARRPG12903CD1DE9'</td>\n",
       "      <td>Zip-A-Dee-Doo-Dah (Song of the South)</td>\n",
       "      <td>Orlando Pops Orchestra</td>\n",
       "      <td></td>\n",
       "      <td>199.99302</td>\n",
       "      <td>0</td>\n",
       "      <td>-16.477</td>\n",
       "      <td>0.311616</td>\n",
       "      <td>NaN</td>\n",
       "      <td>Medium</td>\n",
       "    </tr>\n",
       "  </tbody>\n",
       "</table>\n",
       "</div>"
      ],
      "text/plain": [
       "                track_id                                  title  \\\n",
       "0  b'TRARRZU128F4253CA2'         Je Sais Que La Terre Est Plate   \n",
       "1  b'TRARRJL128F92DED0E'                              On Efface   \n",
       "2  b'TRARRUZ128F9307C57'                        Howells Delight   \n",
       "3  b'TRARRWA128F42A0195'                          Martha Served   \n",
       "4  b'TRARRPG12903CD1DE9'  Zip-A-Dee-Doo-Dah (Song of the South)   \n",
       "\n",
       "              artist_name artist_location   duration  year  loudness  \\\n",
       "0                 Raphaël          France  148.74077  2008    -9.636   \n",
       "1           Julie Zenatti                  252.99546  2004   -11.061   \n",
       "2   The Baltimore Consort                   78.02730     0   -24.140   \n",
       "3            I Hate Sally                  163.63057  2007    -5.795   \n",
       "4  Orlando Pops Orchestra                  199.99302     0   -16.477   \n",
       "\n",
       "   artist_hotttnesss  song_hotttnesss artist_hotttnesss_band  \n",
       "0           0.386152         0.547953                 Medium  \n",
       "1           0.434860         0.475638                 Medium  \n",
       "2           0.000000              NaN                    Low  \n",
       "3           0.334520              NaN                 Medium  \n",
       "4           0.311616              NaN                 Medium  "
      ]
     },
     "execution_count": 8,
     "metadata": {},
     "output_type": "execute_result"
    }
   ],
   "source": [
    "df.head()"
   ]
  },
  {
   "cell_type": "markdown",
   "metadata": {},
   "source": [
    "# 2. Initialize Spark Session and load data to Bigquery"
   ]
  },
  {
   "cell_type": "code",
   "execution_count": 9,
   "metadata": {},
   "outputs": [],
   "source": [
    "from pyspark.sql import SparkSession"
   ]
  },
  {
   "cell_type": "code",
   "execution_count": 10,
   "metadata": {},
   "outputs": [],
   "source": [
    "spark = SparkSession.builder \\\n",
    "    .appName(\"GCSWriter\") \\\n",
    "    .config(\"spark.jars\", \"gcs-connector-hadoop3-latest.jar\") \\\n",
    "    .config(\"spark.hadoop.fs.gs.impl\", \"com.google.cloud.hadoop.fs.gcs.GoogleHadoopFileSystem\") \\\n",
    "    .config(\"spark.hadoop.google.cloud.auth.service.account.enable\", \"true\") \\\n",
    "    .config(\"spark.hadoop.google.cloud.auth.service.account.json.keyfile\", \"indigo-night-447804-g7-90004bf037f3.json\") \\\n",
    "    .getOrCreate()"
   ]
  },
  {
   "cell_type": "code",
   "execution_count": 13,
   "metadata": {},
   "outputs": [
    {
     "name": "stdout",
     "output_type": "stream",
     "text": [
      "+--------------------+--------------------+--------------------+-----------------+---------+----+--------+-------------------+-------------------+--------------------+\n",
      "|            track_id|               title|         artist_name|  artist_location| duration|year|loudness|  artist_hotttnesss|    song_hotttnesss|song_hotttnesss_band|\n",
      "+--------------------+--------------------+--------------------+-----------------+---------+----+--------+-------------------+-------------------+--------------------+\n",
      "|b'TRARRZU128F4253...|Je Sais Que La Te...|             Raphaël|           France|148.74077|2008|  -9.636| 0.3861516314132549| 0.5479529419800353|              Medium|\n",
      "|b'TRARRJL128F92DE...|           On Efface|       Julie Zenatti|             null|252.99546|2004| -11.061|0.43485958934341257|0.47563846801023907|              Medium|\n",
      "|b'TRARRUZ128F9307...|     Howells Delight|The Baltimore Con...|             null|  78.0273|   0|  -24.14|                0.0|               null|                 Low|\n",
      "|b'TRARRWA128F42A0...|       Martha Served|        I Hate Sally|             null|163.63057|2007|  -5.795| 0.3345197638116389|               null|              Medium|\n",
      "|b'TRARRPG12903CD1...|Zip-A-Dee-Doo-Dah...|Orlando Pops Orch...|             null|199.99302|   0| -16.477| 0.3116155449734521|               null|              Medium|\n",
      "|b'TRARRER128F9328...|Liquid Time (comp...|             Brand X|     Sikeston, MO|279.35302|   0| -12.474| 0.3636756770511417| 0.4454545254934259|              Medium|\n",
      "|b'TRARRYC128F428C...|Misery Path (From...|            Amorphis|             null|255.03302|   0|  -4.393| 0.5535661720707804| 0.3277366831778408|              Medium|\n",
      "|b'TRARROY128F4228...|Nuovi Re pt. I I ...|               Inoki|             null| 259.3171|   0|   -5.05|0.44013471201542936|               null|              Medium|\n",
      "|b'TRARREF128F422F...|           Halloween|       Dead Kennedys|             null|  216.842|1982|  -4.264| 0.5392454183492504| 0.7883881833222074|              Medium|\n",
      "|b'TRARRVB128F92F4...|Parto em terras d...| Brigada Victor Jara|             null|312.99873|1998| -13.885| 0.3581485188029746|               null|              Medium|\n",
      "|b'TRARRQO128F427B...|You Eclipsed By M...|              Atreyu|Orange County, CA|218.90567|2004|  -4.707| 0.5924394855278091| 0.6810920295819312|              Medium|\n",
      "|b'TRARRMK12903CDF...|              Shovel|            Mistress|   Mass. - Boston|580.70159|2005|  -4.523| 0.3894988174170211|0.40148671142756037|              Medium|\n",
      "|b'TRARUOP12903CF2...|What Drives The Weak|        Shadows Fall|       Boston, MA|283.48036|2004|  -4.076|  0.455558796992588| 0.6878737149731753|              Medium|\n",
      "|b'TRARURM128F931A...|          Life Force|        Vanessa Daou|             null|229.66812|   0| -19.293|0.40358823765010066|0.26695518627553855|              Medium|\n",
      "|b'TRARUDQ128F934B...| The Dance Of Europe|Dave Brockie Expe...|             null| 135.8624|2001|  -3.312|0.33593551225154833| 0.3552855364230894|              Medium|\n",
      "|b'TRARUHU128F92FD...|     Spoonie Is Back|         Spoonie Gee|     New York, NY|393.63873|   0|  -6.619|0.42272137011677613| 0.5435242770791181|              Medium|\n",
      "|b'TRARUFE128F92F5...|Blood Round Dance...|     R. Carlos Nakai|             null|146.33751|1982| -25.651|0.37693998444161575|0.21508031850922793|              Medium|\n",
      "|b'TRARUTP128E0797...|Crawling (Album V...|         Linkin Park|  Los Angeles, CA|208.95302|2000|  -6.052| 0.7911430023895633| 0.8722290226088538|                High|\n",
      "|b'TRARUYJ128F9316...|              Bennie|       Koffi Olomidé|             null|625.78893|   0|  -7.164|0.31161748493154134|               null|              Medium|\n",
      "|b'TRARITF12903CE7...|  Playa del sous-sol|      Alain-François|             null|172.01587|   0|  -5.704|0.30091842861713314|               null|              Medium|\n",
      "+--------------------+--------------------+--------------------+-----------------+---------+----+--------+-------------------+-------------------+--------------------+\n",
      "only showing top 20 rows\n",
      "\n"
     ]
    }
   ],
   "source": [
    "# Initialize Spark session\n",
    "spark = SparkSession.builder.appName(\"MillionSongSubsetPipeline\").getOrCreate()\n",
    "\n",
    "from pyspark.sql import types\n",
    "schema = types.StructType([\n",
    "    types.StructField(\"track_id\", types.StringType(), True),\n",
    "    types.StructField(\"title\", types.StringType(), True),\n",
    "    types.StructField(\"artist_name\", types.StringType(), True),\n",
    "    types.StructField(\"artist_location\", types.StringType(), True),\n",
    "    types.StructField(\"duration\", types.DoubleType(), True),\n",
    "    types.StructField(\"year\", types.IntegerType(), True),\n",
    "    types.StructField(\"loudness\", types.DoubleType(), True),\n",
    "    types.StructField(\"artist_hotttnesss\", types.DoubleType(), True),\n",
    "    types.StructField(\"song_hotttnesss\", types.DoubleType(), True),\n",
    "    types.StructField(\"song_hotttnesss_band\", types.StringType(), True)\n",
    "])\n",
    "\n",
    "# Read CSV into Spark DataFrame\n",
    "df_spark = spark.read.option(\"header\", \"true\").schema(schema).csv(\"million_song_subset_features.csv\")\n",
    "\n",
    "# Show data\n",
    "df_spark.show()"
   ]
  },
  {
   "cell_type": "code",
   "execution_count": null,
   "metadata": {},
   "outputs": [],
   "source": []
  },
  {
   "cell_type": "code",
   "execution_count": 16,
   "metadata": {},
   "outputs": [
    {
     "data": {
      "text/html": [
       "\n",
       "            <div>\n",
       "                <p><b>SparkSession - in-memory</b></p>\n",
       "                \n",
       "        <div>\n",
       "            <p><b>SparkContext</b></p>\n",
       "\n",
       "            <p><a href=\"http://jennydembp:4040\">Spark UI</a></p>\n",
       "\n",
       "            <dl>\n",
       "              <dt>Version</dt>\n",
       "                <dd><code>v3.4.0</code></dd>\n",
       "              <dt>Master</dt>\n",
       "                <dd><code>local[*]</code></dd>\n",
       "              <dt>AppName</dt>\n",
       "                <dd><code>GCSWriter</code></dd>\n",
       "            </dl>\n",
       "        </div>\n",
       "        \n",
       "            </div>\n",
       "        "
      ],
      "text/plain": [
       "<pyspark.sql.session.SparkSession at 0x7fc71d356790>"
      ]
     },
     "execution_count": 16,
     "metadata": {},
     "output_type": "execute_result"
    }
   ],
   "source": [
    "spark"
   ]
  },
  {
   "cell_type": "code",
   "execution_count": 14,
   "metadata": {},
   "outputs": [],
   "source": [
    "# Right df_spark to parquet in gcs bucket\n",
    "df_spark.write.parquet(\"gs://project_data_millionmusic/million_song_lake/\", mode=\"overwrite\")"
   ]
  },
  {
   "cell_type": "code",
   "execution_count": 15,
   "metadata": {},
   "outputs": [
    {
     "data": {
      "text/plain": [
       "10000"
      ]
     },
     "execution_count": 15,
     "metadata": {},
     "output_type": "execute_result"
    }
   ],
   "source": [
    "df_spark.count()"
   ]
  },
  {
   "cell_type": "markdown",
   "metadata": {},
   "source": [
    "# 3. Move Data From DataLake to BigQuery"
   ]
  },
  {
   "cell_type": "code",
   "execution_count": 1,
   "metadata": {},
   "outputs": [
    {
     "name": "stdout",
     "output_type": "stream",
     "text": [
      "+--------------------+--------------------+--------------------+---------------+---------+----+--------+-------------------+-------------------+\n",
      "|            track_id|               title|         artist_name|artist_location| duration|year|loudness|  artist_hotttnesss|    song_hotttnesss|\n",
      "+--------------------+--------------------+--------------------+---------------+---------+----+--------+-------------------+-------------------+\n",
      "|b'TRARRZU128F4253...|Je Sais Que La Te...|             Raphaël|         France|148.74077|2008|  -9.636| 0.3861516314132549| 0.5479529419800353|\n",
      "|b'TRARRJL128F92DE...|           On Efface|       Julie Zenatti|           null|252.99546|2004| -11.061|0.43485958934341257|0.47563846801023907|\n",
      "|b'TRARRUZ128F9307...|     Howells Delight|The Baltimore Con...|           null|  78.0273|   0|  -24.14|                0.0|               null|\n",
      "|b'TRARRWA128F42A0...|       Martha Served|        I Hate Sally|           null|163.63057|2007|  -5.795| 0.3345197638116389|               null|\n",
      "|b'TRARRPG12903CD1...|Zip-A-Dee-Doo-Dah...|Orlando Pops Orch...|           null|199.99302|   0| -16.477| 0.3116155449734521|               null|\n",
      "+--------------------+--------------------+--------------------+---------------+---------+----+--------+-------------------+-------------------+\n",
      "only showing top 5 rows\n",
      "\n"
     ]
    }
   ],
   "source": [
    "import os\n",
    "from pyspark.sql import SparkSession\n",
    "\n",
    "# Set environment variable so Java picks up your GCP credentials\n",
    "os.environ[\"GOOGLE_APPLICATION_CREDENTIALS\"] = \"indigo-night-447804-g7-90004bf037f3.json\"\n",
    "\n",
    "# JARs required for BigQuery + GCS\n",
    "jar_bigquery = \"spark-bigquery-latest_2.12.jar\"\n",
    "jar_gcs = \"gcs-connector-hadoop3-latest.jar\"\n",
    "\n",
    "# Initialize SparkSession with jars\n",
    "spark = SparkSession.builder \\\n",
    "    .appName(\"UploadParquetToBigQuery\") \\\n",
    "    .config(\"spark.jars\", f\"{jar_bigquery},{jar_gcs}\") \\\n",
    "    .getOrCreate()\n",
    "\n",
    "spark._jsc.hadoopConfiguration().set(\"fs.AbstractFileSystem.gs.impl\",  \"com.google.cloud.hadoop.fs.gcs.GoogleHadoopFS\")\n",
    "spark._jsc.hadoopConfiguration().set(\"fs.gs.impl\", \"com.google.cloud.hadoop.fs.gcs.GoogleHadoopFileSystem\")\n",
    "spark._jsc.hadoopConfiguration().set(\"fs.gs.auth.service.account.json.keyfile\", \"indigo-night-447804-g7-90004bf037f3.json\")\n",
    "spark._jsc.hadoopConfiguration().set(\"fs.gs.auth.service.account.enable\", \"true\")\n",
    "\n",
    "\n",
    "# ✅ Replace with your actual GCS path\n",
    "gcs_parquet_path = \"gs://project_data_millionmusic/million_song_lake/part-00000-e0cc8da9-62d0-4377-92d4-6998a3679020-c000.snappy.parquet\"\n",
    "\n",
    "# Read the Parquet file\n",
    "df = spark.read.parquet(gcs_parquet_path)\n",
    "\n",
    "# Show the first few rows (just to verify it loaded correctly)\n",
    "df.show(5)\n",
    "\n",
    "# ✅ Replace with your actual GCP project and BigQuery dataset\n",
    "project_id = \"indigo-night-447804-g7\"\n",
    "bq_dataset = \"project_millionsongs\"\n",
    "bq_table = \"millionsongs_new\"\n",
    "temp_gcs_bucket = \"project_data_millionmusic\"\n",
    "\n",
    "# Write DataFrame to BigQuery\n",
    "df.write \\\n",
    "    .format(\"bigquery\") \\\n",
    "    .option(\"table\", f\"{project_id}:{bq_dataset}.{bq_table}\") \\\n",
    "    .option(\"temporaryGcsBucket\", temp_gcs_bucket) \\\n",
    "    .mode(\"overwrite\") \\\n",
    "    .save()"
   ]
  },
  {
   "cell_type": "code",
   "execution_count": 3,
   "metadata": {},
   "outputs": [
    {
     "data": {
      "text/plain": [
       "Row(track_id=\"b'TRARRZU128F4253CA2'\", title='Je Sais Que La Terre Est Plate', artist_name='Raphaël', artist_location='France', duration='148.74077', year='2008', loudness='-9.636', artist_hotttnesss='0.3861516314132549', song_hotttnesss='0.5479529419800353')"
      ]
     },
     "execution_count": 3,
     "metadata": {},
     "output_type": "execute_result"
    }
   ],
   "source": []
  },
  {
   "cell_type": "code",
   "execution_count": null,
   "metadata": {},
   "outputs": [],
   "source": []
  }
 ],
 "metadata": {
  "kernelspec": {
   "display_name": "Python 3",
   "language": "python",
   "name": "python3"
  },
  "language_info": {
   "codemirror_mode": {
    "name": "ipython",
    "version": 3
   },
   "file_extension": ".py",
   "mimetype": "text/x-python",
   "name": "python",
   "nbconvert_exporter": "python",
   "pygments_lexer": "ipython3",
   "version": "3.8.3"
  }
 },
 "nbformat": 4,
 "nbformat_minor": 4
}
