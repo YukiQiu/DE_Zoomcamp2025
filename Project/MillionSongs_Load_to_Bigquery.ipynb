{
 "cells": [
  {
   "cell_type": "code",
   "execution_count": 2,
   "metadata": {},
   "outputs": [
    {
     "name": "stdout",
     "output_type": "stream",
     "text": [
      "+--------------------+--------------------+--------------------+---------------+---------+----+--------+-------------------+-------------------+----------------------+\n",
      "|            track_id|               title|         artist_name|artist_location| duration|year|loudness|  artist_hotttnesss|    song_hotttnesss|artist_hotttnesss_band|\n",
      "+--------------------+--------------------+--------------------+---------------+---------+----+--------+-------------------+-------------------+----------------------+\n",
      "|b'TRARRZU128F4253...|Je Sais Que La Te...|             Raphaël|         France|148.74077|2008|  -9.636| 0.3861516314132549| 0.5479529419800353|                Medium|\n",
      "|b'TRARRJL128F92DE...|           On Efface|       Julie Zenatti|           null|252.99546|2004| -11.061|0.43485958934341257|0.47563846801023907|                Medium|\n",
      "|b'TRARRUZ128F9307...|     Howells Delight|The Baltimore Con...|           null|  78.0273|   0|  -24.14|                0.0|               null|                   Low|\n",
      "|b'TRARRWA128F42A0...|       Martha Served|        I Hate Sally|           null|163.63057|2007|  -5.795| 0.3345197638116389|               null|                Medium|\n",
      "|b'TRARRPG12903CD1...|Zip-A-Dee-Doo-Dah...|Orlando Pops Orch...|           null|199.99302|   0| -16.477| 0.3116155449734521|               null|                Medium|\n",
      "+--------------------+--------------------+--------------------+---------------+---------+----+--------+-------------------+-------------------+----------------------+\n",
      "only showing top 5 rows\n",
      "\n"
     ]
    }
   ],
   "source": [
    "import os\n",
    "from pyspark.sql import SparkSession\n",
    "\n",
    "# Set environment variable so Java picks up your GCP credentials\n",
    "os.environ[\"GOOGLE_APPLICATION_CREDENTIALS\"] = \"indigo-night-447804-g7-90004bf037f3.json\"\n",
    "\n",
    "# JARs required for BigQuery + GCS\n",
    "jar_bigquery = \"spark-bigquery-latest_2.12.jar\"\n",
    "jar_gcs = \"gcs-connector-hadoop3-latest.jar\"\n",
    "\n",
    "# Initialize SparkSession with jars\n",
    "spark = SparkSession.builder \\\n",
    "    .appName(\"UploadParquetToBigQuery\") \\\n",
    "    .config(\"spark.jars\", f\"{jar_bigquery},{jar_gcs}\") \\\n",
    "    .getOrCreate()\n",
    "\n",
    "spark._jsc.hadoopConfiguration().set(\"fs.AbstractFileSystem.gs.impl\",  \"com.google.cloud.hadoop.fs.gcs.GoogleHadoopFS\")\n",
    "spark._jsc.hadoopConfiguration().set(\"fs.gs.impl\", \"com.google.cloud.hadoop.fs.gcs.GoogleHadoopFileSystem\")\n",
    "spark._jsc.hadoopConfiguration().set(\"fs.gs.auth.service.account.json.keyfile\", \"indigo-night-447804-g7-90004bf037f3.json\")\n",
    "spark._jsc.hadoopConfiguration().set(\"fs.gs.auth.service.account.enable\", \"true\")\n",
    "\n",
    "\n",
    "gcs_parquet_path = \"gs://project_data_millionmusic/million_song_lake/part-00000-009fb375-9724-4b99-8069-9a3e450dd29a-c000.snappy.parquet\"\n",
    "\n",
    "# Read the Parquet file\n",
    "df = spark.read.parquet(gcs_parquet_path)\n",
    "\n",
    "# Show the first few rows (just to verify it loaded correctly)\n",
    "df.show(5)\n",
    "\n",
    "project_id = \"indigo-night-447804-g7\"\n",
    "bq_dataset = \"project_millionsongs\"\n",
    "bq_table = \"millionsongsdata02\"\n",
    "temp_gcs_bucket = \"project_data_millionmusic\"\n",
    "\n",
    "# Write DataFrame to BigQuery\n",
    "df.write \\\n",
    "    .format(\"bigquery\") \\\n",
    "    .option(\"table\", f\"{project_id}:{bq_dataset}.{bq_table}\") \\\n",
    "    .option(\"temporaryGcsBucket\", temp_gcs_bucket) \\\n",
    "    .mode(\"overwrite\") \\\n",
    "    .save()"
   ]
  }
 ],
 "metadata": {
  "kernelspec": {
   "display_name": "Python 3",
   "language": "python",
   "name": "python3"
  },
  "language_info": {
   "codemirror_mode": {
    "name": "ipython",
    "version": 3
   },
   "file_extension": ".py",
   "mimetype": "text/x-python",
   "name": "python",
   "nbconvert_exporter": "python",
   "pygments_lexer": "ipython3",
   "version": "3.8.3"
  }
 },
 "nbformat": 4,
 "nbformat_minor": 4
}
